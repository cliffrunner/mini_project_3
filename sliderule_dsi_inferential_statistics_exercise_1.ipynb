{
 "cells": [
  {
   "cell_type": "markdown",
   "metadata": {},
   "source": [
    "# What is the True Normal Human Body Temperature? \n",
    "\n",
    "#### Background\n",
    "\n",
    "The mean normal body temperature was held to be 37$^{\\circ}$C or 98.6$^{\\circ}$F for more than 120 years since it was first conceptualized and reported by Carl Wunderlich in a famous 1868 book. But, is this value statistically correct?"
   ]
  },
  {
   "cell_type": "markdown",
   "metadata": {},
   "source": [
    "<h3>Exercises</h3>\n",
    "\n",
    "<p>In this exercise, you will analyze a dataset of human body temperatures and employ the concepts of hypothesis testing, confidence intervals, and statistical significance.</p>\n",
    "\n",
    "<p>Answer the following questions <b>in this notebook below and submit to your Github account</b>.</p> \n",
    "\n",
    "<ol>\n",
    "<li>  Is the distribution of body temperatures normal? \n",
    "    <ul>\n",
    "    <li> Although this is not a requirement for the Central Limit Theorem to hold (read the introduction on Wikipedia's page about the CLT carefully: https://en.wikipedia.org/wiki/Central_limit_theorem), it gives us some peace of mind that the population may also be normally distributed if we assume that this sample is representative of the population.\n",
    "    <li> Think about the way you're going to check for the normality of the distribution. Graphical methods are usually used first, but there are also other ways: https://en.wikipedia.org/wiki/Normality_test\n",
    "    </ul>\n",
    "<li>  Is the sample size large? Are the observations independent?\n",
    "    <ul>\n",
    "    <li> Remember that this is a condition for the Central Limit Theorem, and hence the statistical tests we are using, to apply.\n",
    "    </ul>\n",
    "<li>  Is the true population mean really 98.6 degrees F?\n",
    "    <ul>\n",
    "    <li> First, try a bootstrap hypothesis test.\n",
    "    <li> Now, let's try frequentist statistical testing. Would you use a one-sample or two-sample test? Why?\n",
    "    <li> In this situation, is it appropriate to use the $t$ or $z$ statistic? \n",
    "    <li> Now try using the other test. How is the result be different? Why?\n",
    "    </ul>\n",
    "<li>  Draw a small sample of size 10 from the data and repeat both frequentist tests. \n",
    "    <ul>\n",
    "    <li> Which one is the correct one to use? \n",
    "    <li> What do you notice? What does this tell you about the difference in application of the $t$ and $z$ statistic?\n",
    "    </ul>\n",
    "<li>  At what temperature should we consider someone's temperature to be \"abnormal\"?\n",
    "    <ul>\n",
    "    <li> As in the previous example, try calculating everything using the boostrap approach, as well as the frequentist approach.\n",
    "    <li> Start by computing the margin of error and confidence interval. When calculating the confidence interval, keep in mind that you should use the appropriate formula for one draw, and not N draws.\n",
    "    </ul>\n",
    "<li>  Is there a significant difference between males and females in normal temperature?\n",
    "    <ul>\n",
    "    <li> What testing approach did you use and why?\n",
    "    <li> Write a story with your conclusion in the context of the original problem.\n",
    "    </ul>\n",
    "</ol>\n",
    "\n",
    "You can include written notes in notebook cells using Markdown: \n",
    "   - In the control panel at the top, choose Cell > Cell Type > Markdown\n",
    "   - Markdown syntax: http://nestacms.com/docs/creating-content/markdown-cheat-sheet\n",
    "\n",
    "#### Resources\n",
    "\n",
    "+ Information and data sources: http://www.amstat.org/publications/jse/datasets/normtemp.txt, http://www.amstat.org/publications/jse/jse_data_archive.htm\n",
    "+ Markdown syntax: http://nestacms.com/docs/creating-content/markdown-cheat-sheet\n",
    "\n",
    "****"
   ]
  },
  {
   "cell_type": "code",
   "execution_count": 1,
   "metadata": {},
   "outputs": [],
   "source": [
    "import pandas as pd\n",
    "\n",
    "df = pd.read_csv('data/human_body_temperature.csv')"
   ]
  },
  {
   "cell_type": "code",
   "execution_count": 33,
   "metadata": {
    "scrolled": true
   },
   "outputs": [
    {
     "name": "stderr",
     "output_type": "stream",
     "text": [
      "C:\\ProgramData\\Anaconda3\\lib\\site-packages\\matplotlib\\axes\\_axes.py:6462: UserWarning: The 'normed' kwarg is deprecated, and has been replaced by the 'density' kwarg.\n",
      "  warnings.warn(\"The 'normed' kwarg is deprecated, and has been \"\n"
     ]
    },
    {
     "data": {
      "image/png": "[encoded data removed]",
      "text/plain": [
       "<Figure size 432x288 with 1 Axes>"
      ]
     },
     "metadata": {},
     "output_type": "display_data"
    }
   ],
   "source": [
    "# Your work here.\n",
    "import numpy as np\n",
    "import matplotlib.pyplot as plt\n",
    "from scipy.stats import norm\n",
    "\n",
    "x = np.arange(96, 101, 0.001)\n",
    "\n",
    "plt.hist(df.temperature, bins=20, normed=True)\n",
    "plt.plot(x, norm.pdf(x, np.mean(df.temperature), np.std(df.temperature)))\n",
    "plt.show()"
   ]
  },
  {
   "cell_type": "markdown",
   "metadata": {},
   "source": [
    "#### Conclusion: 1. It is close to a normal distribution"
   ]
  },
  {
   "cell_type": "code",
   "execution_count": 34,
   "metadata": {
    "scrolled": true
   },
   "outputs": [
    {
     "name": "stdout",
     "output_type": "stream",
     "text": [
      "<class 'pandas.core.frame.DataFrame'>\n",
      "RangeIndex: 130 entries, 0 to 129\n",
      "Data columns (total 3 columns):\n",
      "temperature    130 non-null float64\n",
      "gender         130 non-null object\n",
      "heart_rate     130 non-null float64\n",
      "dtypes: float64(2), object(1)\n",
      "memory usage: 3.1+ KB\n"
     ]
    }
   ],
   "source": [
    "df.info()"
   ]
  },
  {
   "cell_type": "markdown",
   "metadata": {},
   "source": [
    "#### Conclusion: 2. the sample size is not large (130), however the observation can be considered as independent"
   ]
  },
  {
   "cell_type": "code",
   "execution_count": 36,
   "metadata": {},
   "outputs": [],
   "source": [
    "def bs_func(data, func, size=1):\n",
    "    bs_sample = np.empty(size)\n",
    "    \n",
    "    for i in range(size):\n",
    "        temp = np.random.choice(data, len(data))\n",
    "        bs_sample[i] = func(temp)\n",
    "    return bs_sample\n",
    "\n",
    "bs_temperature = bs_func(df.temperature, np.mean, 1000)"
   ]
  },
  {
   "cell_type": "code",
   "execution_count": 37,
   "metadata": {},
   "outputs": [
    {
     "data": {
      "image/png": "[encoded data removed]",
      "text/plain": [
       "<Figure size 432x288 with 1 Axes>"
      ]
     },
     "metadata": {},
     "output_type": "display_data"
    }
   ],
   "source": [
    "plt.hist(bs_temperature, bins=30)\n",
    "plt.show()"
   ]
  },
  {
   "cell_type": "code",
   "execution_count": 38,
   "metadata": {},
   "outputs": [
    {
     "name": "stdout",
     "output_type": "stream",
     "text": [
      "p value is:0.0\n"
     ]
    }
   ],
   "source": [
    "p_value = np.sum(bs_temperature>=98.6) / len(bs_temperature)\n",
    "print('p value is:' + str(p_value))"
   ]
  },
  {
   "cell_type": "markdown",
   "metadata": {},
   "source": [
    "#### Conclusion: 3.using bootstrap hypothesis test\n",
    "The Null hypothesis is that the normal body temperature is 98.6 F. \n",
    "\n",
    "By using bootstrap, we randomly sample 130 temperature points from the dataset for 1000 times, and compute the mean of those samples.\n",
    "\n",
    "Then we calculate percentage of the data that are greater or equal to 98.6, p-value is 0. It suggests that Null hypothesis should be rejected."
   ]
  },
  {
   "cell_type": "code",
   "execution_count": 42,
   "metadata": {},
   "outputs": [
    {
     "name": "stdout",
     "output_type": "stream",
     "text": [
      "t is:5.475925202078116\n"
     ]
    }
   ],
   "source": [
    "t = (98.6 - np.mean(df.temperature)) / (np.std(df.temperature)/(130)**0.5)\n",
    "print('t is:' + str(t))"
   ]
  },
  {
   "cell_type": "markdown",
   "metadata": {},
   "source": [
    "#### Conclusion: 3.using frequentist statistical test\n",
    "The Null hypothesis is that the normal body temperature is 98.6 F. \n",
    "\n",
    "We then calculate t statistics using the code above w,ich yields t = 5.5\n",
    "\n",
    "for a freedom of 130 and t statistics = 5.5, two tail p-value is smaller than 0.001, which is way smaller than alpha which is usually 0.05.\n",
    "\n",
    "Therefore, the Null hypothesis should be rejected."
   ]
  },
  {
   "cell_type": "code",
   "execution_count": 49,
   "metadata": {},
   "outputs": [],
   "source": [
    "bs_low, bs_high = np.empty(1000), np.empty(1000)\n",
    "\n",
    "for i in range(1000):\n",
    "    temp = np.random.choice(df.temperature, len(df.temperature))\n",
    "    bs_low[i] = np.percentile(temp, 2.5)\n",
    "    bs_high[i] = np.percentile(temp, 97.5)"
   ]
  },
  {
   "cell_type": "code",
   "execution_count": 50,
   "metadata": {
    "scrolled": false
   },
   "outputs": [
    {
     "name": "stdout",
     "output_type": "stream",
     "text": [
      "2 standard deviation of the bootstrap data is:\n",
      "[96.7767125, 99.57532499999999]\n",
      "2 standard deviation of the temperature data is:\n",
      "[96.7225 99.4775]\n"
     ]
    }
   ],
   "source": [
    "print('2 standard deviation of the bootstrap data is:')\n",
    "print([np.mean(bs_low), np.mean(bs_high)])\n",
    "\n",
    "print('2 standard deviation of the temperature data is:')\n",
    "print(np.percentile(df.temperature, [2.5,97.5]))"
   ]
  },
  {
   "cell_type": "markdown",
   "metadata": {},
   "source": [
    "#### Conclusion: 5. computer abnormal body temperature\n",
    "Here we consider 'abnormal' body temperature is 2 standard diviation from the statistics mean.\n",
    "\n",
    "The first method is to use bootstrap, and created 1000 samples of size 130, then compute individuals 2.5 and 97.5 percentile. The second method is to compute 2.5 and 97.5 percentile from the data."
   ]
  },
  {
   "cell_type": "code",
   "execution_count": 53,
   "metadata": {},
   "outputs": [],
   "source": [
    "male_temp = df.temperature[df.gender=='M']\n",
    "female_temp = df.temperature[df.gender=='F']"
   ]
  },
  {
   "cell_type": "code",
   "execution_count": 61,
   "metadata": {
    "scrolled": true
   },
   "outputs": [
    {
     "data": {
      "image/png": "[encoded data removed]",
      "text/plain": [
       "<Figure size 432x288 with 1 Axes>"
      ]
     },
     "metadata": {},
     "output_type": "display_data"
    }
   ],
   "source": [
    "def ecdf(data):\n",
    "    data = sorted(data)\n",
    "    cdf = np.linspace(1,len(data),len(data)) / len(data)\n",
    "    return data, cdf\n",
    "\n",
    "male_x, male_y = ecdf(male_temp)\n",
    "female_x, female_y = ecdf(female_temp)\n",
    "\n",
    "plt.plot(male_x, male_y, linestyle='none', marker='.', alpha=0.5)\n",
    "plt.plot(female_x, female_y, linestyle='none', marker='.', alpha=0.5)\n",
    "\n",
    "plt.xlabel('body temperature (F)')\n",
    "plt.ylabel('cumulative distribution')\n",
    "plt.legend(['male', 'female'])\n",
    "plt.show()"
   ]
  },
  {
   "cell_type": "markdown",
   "metadata": {},
   "source": [
    "#### 6. Is there a significant difference in body temperature between male and female?\n",
    "By looking at the cumulative distribution of body temperature for male and female, there is a difference. \n",
    "\n",
    "However, we need to develop a statistical test to confirm our observation"
   ]
  },
  {
   "cell_type": "code",
   "execution_count": 64,
   "metadata": {
    "scrolled": true
   },
   "outputs": [
    {
     "data": {
      "image/png": "[encoded data removed]",
      "text/plain": [
       "<Figure size 432x288 with 1 Axes>"
      ]
     },
     "metadata": {},
     "output_type": "display_data"
    }
   ],
   "source": [
    "def permutation_sample(data1, data2):\n",
    "    data = np.concatenate((data1, data2))\n",
    "    perm_data = np.random.permutation(data)\n",
    "    perm_data1 = perm_data[1:len(data1)]\n",
    "    perm_data2 = perm_data[len(data1):] \n",
    "    return perm_data1, perm_data2\n",
    "\n",
    "for i in range(50):\n",
    "    perm_data1, perm_data2 = permutation_sample(male_temp, female_temp)\n",
    "    x1, y1 = ecdf(perm_data1)\n",
    "    x2, y2 = ecdf(perm_data\n",
    "    _ = plt.plot(x1, y1, marker='.', linestyle='none',\n",
    "                 color='purple', alpha=0.02)\n",
    "    _ = plt.plot(x2, y2, marker='.', linestyle='none',\n",
    "                 color='green', alpha=0.02)\n",
    "\n",
    "x1, y1 = ecdf(male_temp)\n",
    "x2, y2 = ecdf(female_temp)\n",
    "_ = plt.plot(x1, y1, marker='.', linestyle='none', color='red')\n",
    "_ = plt.plot(x2, y2, marker='.', linestyle='none', color='blue')\n",
    "\n",
    "plt.show()"
   ]
  },
  {
   "cell_type": "code",
   "execution_count": 70,
   "metadata": {},
   "outputs": [
    {
     "name": "stdout",
     "output_type": "stream",
     "text": [
      "p-value is: 0.0137\n"
     ]
    }
   ],
   "source": [
    "perm_replicates = np.empty(10000)\n",
    "\n",
    "for i in range(10000):\n",
    "    perm_data1, perm_data2 = permutation_sample(male_temp, female_temp)\n",
    "    perm_replicates[i] = np.mean(perm_data1) - np.mean(perm_data2)\n",
    "\n",
    "diff_mean = np.mean(male_temp) - np.mean(female_temp)\n",
    "\n",
    "p = np.sum(perm_replicates<=diff_mean) / len(perm_replicates)\n",
    "print('p-value is: ' + str(p))"
   ]
  },
  {
   "cell_type": "code",
   "execution_count": 71,
   "metadata": {
    "scrolled": false
   },
   "outputs": [
    {
     "data": {
      "image/png": "[encoded data removed]",
      "text/plain": [
       "<Figure size 432x288 with 1 Axes>"
      ]
     },
     "metadata": {},
     "output_type": "display_data"
    }
   ],
   "source": [
    "plt.hist(perm_replicates, bins=20)\n",
    "plt.show()"
   ]
  },
  {
   "cell_type": "markdown",
   "metadata": {},
   "source": [
    "#### 6. Is there a significant difference in body temperature between male and female?\n",
    "The null hypothesis is there is no difference between male and female mean body temperature\n",
    "\n",
    "\n",
    "P-value to test this hypothesis is 0.0137, there we should reject the null hypothesis and conclude that there is difference between male and female mean body temperature"
   ]
  }
 ],
 "metadata": {
  "kernelspec": {
   "display_name": "Python 3",
   "language": "python",
   "name": "python3"
  },
  "language_info": {
   "codemirror_mode": {
    "name": "ipython",
    "version": 3
   },
   "file_extension": ".py",
   "mimetype": "text/x-python",
   "name": "python",
   "nbconvert_exporter": "python",
   "pygments_lexer": "ipython3",
   "version": "3.6.5"
  }
 },
 "nbformat": 4,
 "nbformat_minor": 1
}
